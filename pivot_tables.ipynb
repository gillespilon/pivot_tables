{
 "cells": [
  {
   "cell_type": "markdown",
   "metadata": {},
   "source": [
    "# Pivot tables"
   ]
  },
  {
   "cell_type": "markdown",
   "metadata": {},
   "source": [
    "This notebook is my exercise for understanding pivot tables. It is based in part on Chris Moffitt's tutorial in [PBPYTHON](https://pbpython.com/pandas-pivot-table-explained.html)."
   ]
  },
  {
   "cell_type": "code",
   "execution_count": 1,
   "metadata": {},
   "outputs": [],
   "source": [
    "import datasense as ds\n",
    "import pandas as pd\n",
    "import numpy as np"
   ]
  },
  {
   "cell_type": "code",
   "execution_count": 2,
   "metadata": {},
   "outputs": [],
   "source": [
    "pd.options.display.width = 220\n",
    "pd.options.display.max_columns = 220\n",
    "pd.options.display.max_rows = 220\n",
    "output_url = 'pivot_tables.html'\n",
    "header_title = 'Pivot tables'\n",
    "header_id = 'pivot-tables'"
   ]
  },
  {
   "cell_type": "code",
   "execution_count": 3,
   "metadata": {},
   "outputs": [],
   "source": [
    "original_stdout = ds.html_begin(\n",
    "    output_url=output_url,\n",
    "    header_title=header_title,\n",
    "    header_id=header_id\n",
    ")"
   ]
  },
  {
   "cell_type": "code",
   "execution_count": 4,
   "metadata": {},
   "outputs": [],
   "source": [
    "df = ds.read_file(file_name='sales_funnel.xlsx')\n",
    "ds.dataframe_info(\n",
    "    df=df,\n",
    "    file_in='sales_funnel.xlsx'\n",
    ")\n",
    "print(df.head())"
   ]
  },
  {
   "cell_type": "code",
   "execution_count": 5,
   "metadata": {},
   "outputs": [],
   "source": [
    "print('Pivot table, implicit parameters')\n",
    "print(\n",
    "    pd.pivot_table(\n",
    "        data=df,\n",
    "        values=['Price'],\n",
    "        index=['Manager']\n",
    "    ).round(2)\n",
    ")"
   ]
  },
  {
   "cell_type": "code",
   "execution_count": 6,
   "metadata": {},
   "outputs": [],
   "source": [
    "print('Pivot table, explicit parameters')\n",
    "print(\n",
    "    pd.pivot_table(\n",
    "        data=df,\n",
    "        values=['Price'],\n",
    "        index=['Manager'],\n",
    "        aggfunc='mean'\n",
    "    ).round(2)\n",
    ")"
   ]
  },
  {
   "cell_type": "code",
   "execution_count": 7,
   "metadata": {},
   "outputs": [],
   "source": [
    "print('Pivot table, multiple-level index')\n",
    "print(\n",
    "    pd.pivot_table(\n",
    "        data=df,\n",
    "        values=['Price'],\n",
    "        index=['Manager', 'Rep'],\n",
    "        aggfunc='mean'\n",
    "    ).round(2)\n",
    ")"
   ]
  },
  {
   "cell_type": "code",
   "execution_count": 8,
   "metadata": {},
   "outputs": [],
   "source": [
    "print('Pivot table, multi-parameter aggfunc')\n",
    "print(\n",
    "    pd.pivot_table(\n",
    "        data=df,\n",
    "        values=['Price'],\n",
    "        index=['Manager', 'Rep'],\n",
    "        aggfunc={'Price': [np.mean, np.sum, len]}\n",
    "    ).round(2)\n",
    ")"
   ]
  },
  {
   "cell_type": "code",
   "execution_count": 9,
   "metadata": {},
   "outputs": [],
   "source": [
    "print('Pivot table, columns parameter is optional')\n",
    "print(\n",
    "    pd.pivot_table(\n",
    "        data=df,\n",
    "        values=['Price'],\n",
    "        index=['Manager', 'Rep'],\n",
    "        columns=['Product'],\n",
    "        aggfunc=[np.sum]\n",
    "    ).round(2)\n",
    ")"
   ]
  },
  {
   "cell_type": "code",
   "execution_count": 10,
   "metadata": {},
   "outputs": [],
   "source": [
    "print('Pivot table, replace NaN with 0')\n",
    "print(\n",
    "    pd.pivot_table(\n",
    "        data=df,\n",
    "        values=['Price'],\n",
    "        index=['Manager', 'Rep'],\n",
    "        columns=['Product'],\n",
    "        aggfunc=[np.sum],\n",
    "        fill_value=0\n",
    "    ).round(2)\n",
    ")"
   ]
  },
  {
   "cell_type": "code",
   "execution_count": 11,
   "metadata": {},
   "outputs": [],
   "source": [
    "print('Pivot table, add second colume to values parameter')\n",
    "print(\n",
    "    pd.pivot_table(\n",
    "        data=df,\n",
    "        values=['Price', 'Quantity'],\n",
    "        index=['Manager', 'Rep'],\n",
    "        columns=['Product'],\n",
    "        aggfunc=[np.sum],\n",
    "        fill_value=0\n",
    "    ).round(2)\n",
    ")"
   ]
  },
  {
   "cell_type": "code",
   "execution_count": 12,
   "metadata": {},
   "outputs": [],
   "source": [
    "print('Pivot table, product column moved to the index')\n",
    "print(\n",
    "    pd.pivot_table(\n",
    "        data=df,\n",
    "        values=['Price', 'Quantity'],\n",
    "        index=['Manager', 'Rep', 'Product'],\n",
    "        aggfunc=[np.sum],\n",
    "        fill_value=0\n",
    "    ).round(2)\n",
    ")"
   ]
  },
  {
   "cell_type": "code",
   "execution_count": 13,
   "metadata": {},
   "outputs": [],
   "source": [
    "print('Pivot table, show totals')\n",
    "print(\n",
    "    pd.pivot_table(\n",
    "        data=df,\n",
    "        values=['Price', 'Quantity'],\n",
    "        index=['Manager', 'Rep', 'Product'],\n",
    "        aggfunc=[np.sum],\n",
    "        fill_value=0,\n",
    "        margins=True\n",
    "    ).round(2)\n",
    ")"
   ]
  },
  {
   "cell_type": "code",
   "execution_count": 14,
   "metadata": {},
   "outputs": [],
   "source": [
    "print('Pivot table, change categories')\n",
    "print(\n",
    "    pd.pivot_table(\n",
    "        data=df,\n",
    "        values=['Price', 'Quantity'],\n",
    "        index=['Manager', 'Status'],\n",
    "        aggfunc=[np.sum],\n",
    "        fill_value=0,\n",
    "        margins=True\n",
    "    ).round(2)\n",
    ")"
   ]
  },
  {
   "cell_type": "code",
   "execution_count": 15,
   "metadata": {},
   "outputs": [],
   "source": [
    "print('Pivot table, pass dictionary to aggfunc')\n",
    "print(\n",
    "    pd.pivot_table(\n",
    "        data=df,\n",
    "        values=['Price', 'Quantity'],\n",
    "        index=['Manager', 'Status'],\n",
    "        columns=['Product'],\n",
    "        aggfunc={'Quantity': len, 'Price': np.sum},\n",
    "        fill_value=0,\n",
    "        margins=True\n",
    "    ).round(2)\n",
    ")"
   ]
  },
  {
   "cell_type": "code",
   "execution_count": 16,
   "metadata": {},
   "outputs": [],
   "source": [
    "print('Pivot table, pass dictionary to aggfunc')\n",
    "print(\n",
    "    pd.pivot_table(\n",
    "        data=df,\n",
    "        values=['Price', 'Quantity'],\n",
    "        index=['Manager', 'Status'],\n",
    "        columns=['Product'],\n",
    "        aggfunc={'Quantity': len, 'Price': [np.sum, np.mean]},\n",
    "        fill_value=0\n",
    "    ).round(2)\n",
    ")"
   ]
  },
  {
   "cell_type": "code",
   "execution_count": 17,
   "metadata": {},
   "outputs": [],
   "source": [
    "print('Pivot table, save to variable')\n",
    "table = pd.pivot_table(\n",
    "    data=df,\n",
    "    values=['Price', 'Quantity'],\n",
    "    index=['Manager', 'Status'],\n",
    "    columns=['Product'],\n",
    "    aggfunc={'Quantity': len, 'Price': [np.sum, np.mean]},\n",
    "    fill_value=0\n",
    ").round(2)\n",
    "print(table)"
   ]
  },
  {
   "cell_type": "code",
   "execution_count": 18,
   "metadata": {},
   "outputs": [],
   "source": [
    "print('Pivot table, sort on price, mean CPU')\n",
    "table = table.sort_values(by=('Price', 'mean', 'CPU'), ascending=False)\n",
    "print(table)\n",
    "print()\n",
    "print('Pivot table, filter for one manager')\n",
    "table = table.query('Manager == [\"Debra Henley\"]')\n",
    "print(table)"
   ]
  },
  {
   "cell_type": "code",
   "execution_count": 19,
   "metadata": {},
   "outputs": [],
   "source": [
    "print('Pivot table, sort and filter with multiple \"dots\"')\n",
    "table = pd.pivot_table(\n",
    "    data=df,\n",
    "    values=['Price', 'Quantity'],\n",
    "    index=['Manager', 'Status'],\n",
    "    columns=['Product'],\n",
    "    aggfunc={'Quantity': len, 'Price': [np.sum, np.mean]},\n",
    "    fill_value=0\n",
    ")\\\n",
    "    .sort_values(by=('Price', 'mean', 'CPU'), ascending=False)\\\n",
    "    .query('Manager == [\"Debra Henley\"]')\\\n",
    "    .round(2)\n",
    "print(table)"
   ]
  },
  {
   "cell_type": "code",
   "execution_count": 20,
   "metadata": {},
   "outputs": [],
   "source": [
    "print('Pivot table, another query')\n",
    "table = pd.pivot_table(\n",
    "    data=df,\n",
    "    values=['Price', 'Quantity'],\n",
    "    index=['Manager', 'Status'],\n",
    "    columns=['Product'],\n",
    "    aggfunc={'Quantity': len, 'Price': [np.sum, np.mean]},\n",
    "    fill_value=0\n",
    ")\\\n",
    "    .query('Status == [\"pending\", \"won\"]')\\\n",
    "    .round(2)\n",
    "print(table)"
   ]
  },
  {
   "cell_type": "code",
   "execution_count": 21,
   "metadata": {},
   "outputs": [],
   "source": [
    "print('Pivot table, another query')\n",
    "table = pd.pivot_table(\n",
    "    data=df,\n",
    "    values=['Price', 'Quantity'],\n",
    "    index=['Manager', 'Status'],\n",
    "    columns=['Product'],\n",
    "    aggfunc={'Quantity': len, 'Price': [np.sum, np.mean]},\n",
    "    fill_value=0\n",
    ")\\\n",
    "    .query('Status == [\"pending\", \"won\"]')\\\n",
    "    .query('Manager == [\"Debra Henley\"]')\\\n",
    "    .round(2)\n",
    "print(table)"
   ]
  },
  {
   "cell_type": "code",
   "execution_count": 22,
   "metadata": {},
   "outputs": [],
   "source": [
    "print('Pivot table, another query')\n",
    "table = pd.pivot_table(\n",
    "    data=df,\n",
    "    values=['Price', 'Quantity'],\n",
    "    index=['Manager', 'Status'],\n",
    "    columns=['Product'],\n",
    "    aggfunc={'Quantity': len, 'Price': [np.sum, np.mean]},\n",
    "    fill_value=0\n",
    ")\\\n",
    "    .query('Status == [\"pending\", \"won\"] & Manager == [\"Debra Henley\"]')\\\n",
    "    .round(2)\n",
    "print(table)"
   ]
  },
  {
   "cell_type": "code",
   "execution_count": 23,
   "metadata": {},
   "outputs": [],
   "source": [
    "ds.html_end(\n",
    "    original_stdout=original_stdout,\n",
    "    output_url=output_url\n",
    ")"
   ]
  },
  {
   "cell_type": "markdown",
   "metadata": {},
   "source": [
    "# References\n",
    "\n",
    "- [pandas.pivot_table](https://pandas.pydata.org/pandas-docs/stable/reference/api/pandas.pivot_table.html)\n",
    "- [pandas.query](https://pandas.pydata.org/pandas-docs/stable/reference/api/pandas.DataFrame.query.html)"
   ]
  }
 ],
 "metadata": {
  "kernelspec": {
   "display_name": "Python 3",
   "language": "python",
   "name": "python3"
  },
  "language_info": {
   "codemirror_mode": {
    "name": "ipython",
    "version": 3
   },
   "file_extension": ".py",
   "mimetype": "text/x-python",
   "name": "python",
   "nbconvert_exporter": "python",
   "pygments_lexer": "ipython3",
   "version": "3.8.6"
  },
  "varInspector": {
   "cols": {
    "lenName": 16,
    "lenType": 16,
    "lenVar": 40
   },
   "kernels_config": {
    "python": {
     "delete_cmd_postfix": "",
     "delete_cmd_prefix": "del ",
     "library": "var_list.py",
     "varRefreshCmd": "print(var_dic_list())"
    },
    "r": {
     "delete_cmd_postfix": ") ",
     "delete_cmd_prefix": "rm(",
     "library": "var_list.r",
     "varRefreshCmd": "cat(var_dic_list()) "
    }
   },
   "types_to_exclude": [
    "module",
    "function",
    "builtin_function_or_method",
    "instance",
    "_Feature"
   ],
   "window_display": false
  }
 },
 "nbformat": 4,
 "nbformat_minor": 2
}
