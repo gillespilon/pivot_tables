{
 "cells": [
  {
   "cell_type": "markdown",
   "metadata": {},
   "source": [
    "# Pivot tables"
   ]
  },
  {
   "cell_type": "markdown",
   "metadata": {},
   "source": [
    "This notebook is my exercise for understanding pivot tables. It is based in part on Chris Moffitt's tutorial in [PBPYTHON](https://pbpython.com/pandas-pivot-table-explained.html)."
   ]
  },
  {
   "cell_type": "code",
   "execution_count": null,
   "metadata": {},
   "outputs": [],
   "source": [
    "import pandas as pd\n",
    "import numpy as np"
   ]
  },
  {
   "cell_type": "code",
   "execution_count": null,
   "metadata": {},
   "outputs": [],
   "source": [
    "def byte_size(num, suffix='B'):\n",
    "    '''\n",
    "    Convert bytes to appropriate multiple.\n",
    "    '''\n",
    "    for unit in ['', 'Ki', 'Mi', 'Gi', 'Ti', 'Pi', 'Ei', 'Zi']:\n",
    "        if abs(num) < 1024.0:\n",
    "            return \"%3.1f %s%s\" % (num, unit, suffix)\n",
    "        num /= 1024.0\n",
    "    return \"%.1f %s%s\" % (num, 'Yi', suffix)"
   ]
  },
  {
   "cell_type": "code",
   "execution_count": null,
   "metadata": {},
   "outputs": [],
   "source": [
    "def dataframe_info(df):\n",
    "    print(f'Dataframe information',\n",
    "          f'\\nColumn names   : ', list(df),\n",
    "          f'\\nRows         : ', df.shape[0],\n",
    "          f'\\nColumns      : ', df.shape[1],\n",
    "          f'\\nMemory usage :', byte_size(df.memory_usage(index=True).\\\n",
    "                                         sum()))"
   ]
  },
  {
   "cell_type": "code",
   "execution_count": null,
   "metadata": {},
   "outputs": [],
   "source": [
    "df = pd.read_excel('sales-funnel.xlsx')"
   ]
  },
  {
   "cell_type": "code",
   "execution_count": null,
   "metadata": {},
   "outputs": [],
   "source": [
    "dataframe_info(df)"
   ]
  },
  {
   "cell_type": "code",
   "execution_count": null,
   "metadata": {},
   "outputs": [],
   "source": [
    "df.head()"
   ]
  },
  {
   "cell_type": "code",
   "execution_count": null,
   "metadata": {},
   "outputs": [],
   "source": [
    "# Pivot table using index and values parameters.\n",
    "# By default the aggfunc is the average.\n",
    "pd.pivot_table(df, values=['Price'], index=['Manager']).round(2)"
   ]
  },
  {
   "cell_type": "code",
   "execution_count": null,
   "metadata": {},
   "outputs": [],
   "source": [
    "# To be explicit.\n",
    "pd.pivot_table(df,\n",
    "               values=['Price'],\n",
    "               index=['Manager'],\n",
    "               aggfunc='mean').round(2)"
   ]
  },
  {
   "cell_type": "code",
   "execution_count": null,
   "metadata": {},
   "outputs": [],
   "source": [
    "# The index can have multiple levels.\n",
    "pd.pivot_table(df,\n",
    "               values=['Price'],\n",
    "               index=['Manager', 'Rep'],\n",
    "               aggfunc='mean').round(2)"
   ]
  },
  {
   "cell_type": "code",
   "execution_count": null,
   "metadata": {},
   "outputs": [],
   "source": [
    "# The aggfunc can have several parameters.\n",
    "pd.pivot_table(df,\n",
    "               values=['Price'],\n",
    "               index=['Manager', 'Rep'],\n",
    "               aggfunc=[np.mean, np.sum, len]).round(2)"
   ]
  },
  {
   "cell_type": "code",
   "execution_count": null,
   "metadata": {},
   "outputs": [],
   "source": [
    "# The columns parameter is optional.\n",
    "# It provides an additional way to segment values.\n",
    "# The index can have multiple levels.\n",
    "pd.pivot_table(df,\n",
    "               values=['Price'],\n",
    "               index=['Manager', 'Rep'],\n",
    "               columns=['Product'],\n",
    "               aggfunc=[np.sum]).round(2)"
   ]
  },
  {
   "cell_type": "code",
   "execution_count": null,
   "metadata": {},
   "outputs": [],
   "source": [
    "# Replace the NaN with 0.\n",
    "pd.pivot_table(df,\n",
    "               values=['Price'],\n",
    "               index=['Manager', 'Rep'],\n",
    "               columns=['Product'],\n",
    "               aggfunc=[np.sum],\n",
    "               fill_value=0).round(2)"
   ]
  },
  {
   "cell_type": "code",
   "execution_count": null,
   "metadata": {},
   "outputs": [],
   "source": [
    "# Add another column to the values parameter.\n",
    "pd.pivot_table(df,\n",
    "               values=['Price', 'Quantity'],\n",
    "               index=['Manager', 'Rep'],\n",
    "               columns=['Product'],\n",
    "               aggfunc=[np.sum],\n",
    "               fill_value=0).round(2)"
   ]
  },
  {
   "cell_type": "code",
   "execution_count": null,
   "metadata": {},
   "outputs": [],
   "source": [
    "# Move the product column to the index.\n",
    "pd.pivot_table(df,\n",
    "               values=['Price', 'Quantity'],\n",
    "               index=['Manager', 'Rep', 'Product'],\n",
    "               aggfunc=[np.sum],\n",
    "               fill_value=0).round(2)"
   ]
  },
  {
   "cell_type": "code",
   "execution_count": null,
   "metadata": {},
   "outputs": [],
   "source": [
    "# Show totals.\n",
    "pd.pivot_table(df,\n",
    "               values=['Price', 'Quantity'],\n",
    "               index=['Manager', 'Rep', 'Product'],\n",
    "               aggfunc=[np.sum],\n",
    "               fill_value=0,\n",
    "               margins=True).round(2)"
   ]
  },
  {
   "cell_type": "code",
   "execution_count": null,
   "metadata": {},
   "outputs": [],
   "source": [
    "# Change the categories to look at the Manager level, add Status, remove Quantity.\n",
    "pd.pivot_table(df,\n",
    "               values=['Price', 'Quantity'],\n",
    "               index=['Manager', 'Status'],\n",
    "               aggfunc=[np.sum],\n",
    "               fill_value=0,\n",
    "               margins=True).round(2)"
   ]
  },
  {
   "cell_type": "code",
   "execution_count": null,
   "metadata": {},
   "outputs": [],
   "source": [
    "# Pass a dictionary to the aggfunc to perform different functions.\n",
    "pd.pivot_table(df,\n",
    "               values=['Price', 'Quantity'],\n",
    "               index=['Manager', 'Status'],\n",
    "               columns=['Product'],\n",
    "               aggfunc={'Quantity':len, 'Price':np.sum},\n",
    "               fill_value=0,\n",
    "               margins=True).round(2)"
   ]
  },
  {
   "cell_type": "code",
   "execution_count": null,
   "metadata": {},
   "outputs": [],
   "source": [
    "# Pass a dictionary to the aggfunc to perform different functions.\n",
    "# Each value can have a dictionary. Need to remove totals (why?).\n",
    "pd.pivot_table(df,\n",
    "               values=['Price', 'Quantity'],\n",
    "               index=['Manager', 'Status'],\n",
    "               columns=['Product'],\n",
    "               aggfunc={'Quantity':len, 'Price':[np.sum, np.mean]},\n",
    "               fill_value=0).round(2)"
   ]
  },
  {
   "cell_type": "code",
   "execution_count": null,
   "metadata": {},
   "outputs": [],
   "source": [
    "# Do this again and save to a dataframe.\n",
    "table = pd.pivot_table(df,\n",
    "                       values=['Price', 'Quantity'],\n",
    "                       index=['Manager', 'Status'],\n",
    "                       columns=['Product'],\n",
    "                       aggfunc={'Quantity':len, 'Price':[np.sum, np.mean]},\n",
    "                       fill_value=0).round(2)"
   ]
  },
  {
   "cell_type": "code",
   "execution_count": null,
   "metadata": {},
   "outputs": [],
   "source": [
    "table"
   ]
  },
  {
   "cell_type": "code",
   "execution_count": null,
   "metadata": {},
   "outputs": [],
   "source": [
    "table.sort_values(by=('Price', 'mean', 'CPU'), ascending=False)"
   ]
  },
  {
   "cell_type": "code",
   "execution_count": null,
   "metadata": {},
   "outputs": [],
   "source": [
    "# Filter the dataframe for one manager\n",
    "table.query('Manager == [\"Debra Henley\"]')"
   ]
  },
  {
   "cell_type": "code",
   "execution_count": null,
   "metadata": {},
   "outputs": [],
   "source": [
    "# Or just string the query method to the previous code.\n",
    "# Pass a dictionary to the aggfunc to perform different functions.\n",
    "# Each value can have a dictionary. Need to remove totals (why?).\n",
    "pd.pivot_table(df,\n",
    "               values=['Price', 'Quantity'],\n",
    "               index=['Manager', 'Status'],\n",
    "               columns=['Product'],\n",
    "               aggfunc={'Quantity':len, 'Price':[np.sum, np.mean]},\n",
    "               fill_value=0).round(2).query('Manager == [\"Debra Henley\"]')"
   ]
  },
  {
   "cell_type": "code",
   "execution_count": null,
   "metadata": {},
   "outputs": [],
   "source": [
    "# Another query.\n",
    "table.query('Status == [\"pending\", \"won\"]')"
   ]
  },
  {
   "cell_type": "code",
   "execution_count": null,
   "metadata": {},
   "outputs": [],
   "source": [
    "# And another query.\n",
    "table.query('Status == [\"pending\", \"won\"]').query('Manager == [\"Debra Henley\"]')"
   ]
  },
  {
   "cell_type": "code",
   "execution_count": null,
   "metadata": {},
   "outputs": [],
   "source": [
    "# Or this way.\n",
    "table.query('Status == [\"pending\", \"won\"] & Manager == [\"Debra Henley\"]')"
   ]
  },
  {
   "cell_type": "markdown",
   "metadata": {},
   "source": [
    "# References\n",
    "\n",
    "- [pandas.pivot_table](https://pandas.pydata.org/pandas-docs/stable/reference/api/pandas.pivot_table.html)\n",
    "- [pandas.query](https://pandas.pydata.org/pandas-docs/stable/reference/api/pandas.DataFrame.query.html)"
   ]
  }
 ],
 "metadata": {
  "kernelspec": {
   "display_name": "Python 3",
   "language": "python",
   "name": "python3"
  },
  "language_info": {
   "codemirror_mode": {
    "name": "ipython",
    "version": 3
   },
   "file_extension": ".py",
   "mimetype": "text/x-python",
   "name": "python",
   "nbconvert_exporter": "python",
   "pygments_lexer": "ipython3",
   "version": "3.8.0"
  },
  "varInspector": {
   "cols": {
    "lenName": 16,
    "lenType": 16,
    "lenVar": 40
   },
   "kernels_config": {
    "python": {
     "delete_cmd_postfix": "",
     "delete_cmd_prefix": "del ",
     "library": "var_list.py",
     "varRefreshCmd": "print(var_dic_list())"
    },
    "r": {
     "delete_cmd_postfix": ") ",
     "delete_cmd_prefix": "rm(",
     "library": "var_list.r",
     "varRefreshCmd": "cat(var_dic_list()) "
    }
   },
   "types_to_exclude": [
    "module",
    "function",
    "builtin_function_or_method",
    "instance",
    "_Feature"
   ],
   "window_display": false
  }
 },
 "nbformat": 4,
 "nbformat_minor": 2
}
